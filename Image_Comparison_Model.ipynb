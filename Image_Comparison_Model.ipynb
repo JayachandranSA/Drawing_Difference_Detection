{
  "cells": [
    {
      "cell_type": "markdown",
      "metadata": {
        "id": "0LgzM7y5wVLO"
      },
      "source": [
        "##Drawing Difference Detection Model"
      ]
    },
    {
      "cell_type": "code",
      "execution_count": null,
      "metadata": {
        "id": "lXPWMpJYF3KM"
      },
      "outputs": [],
      "source": [
        "# Import Necessary Libraries\n",
        "import cv2\n",
        "import numpy as np\n",
        "from skimage.metrics import structural_similarity as ssim\n",
        "import matplotlib.pyplot as plt\n",
        "from google.colab import files"
      ]
    },
    {
      "cell_type": "code",
      "execution_count": null,
      "metadata": {
        "id": "hD-uQNwkF7tk"
      },
      "outputs": [],
      "source": [
        "#Function to upload and Compare images\n",
        "def upload_and_detect_differences():\n",
        "    \"\"\"\n",
        "    Uploads images from local storage and detects differences between them.\n",
        "    \"\"\"\n",
        "    # Upload images manually\n",
        "    uploaded = files.upload()\n",
        "\n",
        "    # Get the file names (first two uploaded files)\n",
        "    image_paths = list(uploaded.keys())\n",
        "\n",
        "    if len(image_paths) < 2:\n",
        "        print(\"Error: Please upload two images to compare!\")\n",
        "        return\n",
        "\n",
        "    image1_path = image_paths[0]\n",
        "    image2_path = image_paths[1]\n",
        "\n",
        "    # Load images\n",
        "    image1 = cv2.imread(image1_path)\n",
        "    image2 = cv2.imread(image2_path)\n",
        "\n",
        "    if image1 is None or image2 is None:\n",
        "        print(\"Error: Images not found or cannot be loaded.\")\n",
        "        return\n",
        "\n",
        "    # Convert images to grayscale\n",
        "    gray1 = cv2.cvtColor(image1, cv2.COLOR_BGR2GRAY)\n",
        "    gray2 = cv2.cvtColor(image2, cv2.COLOR_BGR2GRAY)\n",
        "\n",
        "    # Compute Structural Similarity Index (SSIM)\n",
        "    score, diff = ssim(gray1, gray2, full=True)\n",
        "    print(f\"SSIM Score: {score:.4f}\")\n",
        "\n",
        "    # Normalize difference image to range [0, 255]\n",
        "    diff = (diff * 255).astype(\"uint8\")\n",
        "\n",
        "    # Apply thresholding to highlight differences\n",
        "    _, thresh = cv2.threshold(diff, 50, 255, cv2.THRESH_BINARY)\n",
        "\n",
        "    # Find contours of differences\n",
        "    contours, _ = cv2.findContours(thresh, cv2.RETR_EXTERNAL, cv2.CHAIN_APPROX_SIMPLE)\n",
        "\n",
        "    # Draw bounding boxes around differences on the new image\n",
        "    result_image = image2.copy()\n",
        "    for contour in contours:\n",
        "        x, y, w, h = cv2.boundingRect(contour)\n",
        "        cv2.rectangle(result_image, (x, y), (x + w, y + h), (0, 0, 255), 2)\n",
        "\n",
        "    # Plot original images and difference visualization\n",
        "    fig, axes = plt.subplots(1, 4, figsize=(20, 6))\n",
        "    axes[0].imshow(cv2.cvtColor(image1, cv2.COLOR_BGR2RGB))\n",
        "    axes[0].set_title(\"Old Revision\")\n",
        "    axes[0].axis(\"off\")\n",
        "\n",
        "    axes[1].imshow(cv2.cvtColor(image2, cv2.COLOR_BGR2RGB))\n",
        "    axes[1].set_title(\"New Revision\")\n",
        "    axes[1].axis(\"off\")\n",
        "\n",
        "    axes[2].imshow(diff, cmap=\"gray\")\n",
        "    axes[2].set_title(\"Difference (Grayscale)\")\n",
        "    axes[2].axis(\"off\")\n",
        "\n",
        "    axes[3].imshow(cv2.cvtColor(result_image, cv2.COLOR_BGR2RGB))\n",
        "    axes[3].set_title(\"Detected Differences\")\n",
        "    axes[3].axis(\"off\")\n",
        "\n",
        "    plt.show()"
      ]
    },
    {
      "cell_type": "code",
      "execution_count": null,
      "metadata": {
        "colab": {
          "base_uri": "https://localhost:8080/"
        },
        "id": "luuaQj7bGAyh",
        "outputId": "8dad86b0-468f-4186-b3d3-86862d21641b"
      },
      "outputs": [],
      "source": [
        "# Run the function\n",
        "upload_and_detect_differences()"
      ]
    }
  ],
  "metadata": {
    "colab": {
      "provenance": []
    },
    "kernelspec": {
      "display_name": ".venv (3.12.0)",
      "language": "python",
      "name": "python3"
    },
    "language_info": {
      "codemirror_mode": {
        "name": "ipython",
        "version": 3
      },
      "file_extension": ".py",
      "mimetype": "text/x-python",
      "name": "python",
      "nbconvert_exporter": "python",
      "pygments_lexer": "ipython3",
      "version": "3.12.0"
    }
  },
  "nbformat": 4,
  "nbformat_minor": 0
}
